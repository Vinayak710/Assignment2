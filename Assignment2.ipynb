{
 "cells": [
  {
   "cell_type": "code",
   "execution_count": 6,
   "id": "a3fc811e-98a2-4f88-8289-d76b30b85172",
   "metadata": {},
   "outputs": [
    {
     "name": "stdout",
     "output_type": "stream",
     "text": [
      "[1, 3, 5, 7, 9, 11, 13, 15, 17, 19, 21, 23, 25]\n"
     ]
    }
   ],
   "source": [
    "#question 1\n",
    "\n",
    "# def keword is ysed to create a function \n",
    "\n",
    "oddlist=[]\n",
    "def Oddnumber_function():\n",
    "    \n",
    "    for i in range(1,26):\n",
    "        oddlist.append((2*i)-1)\n",
    "        if ((2*i)-1)>=25:\n",
    "            break\n",
    "\n",
    "Oddnumber_function()\n",
    "print(oddlist)\n",
    "\n",
    "\n",
    "\n"
   ]
  },
  {
   "cell_type": "code",
   "execution_count": 9,
   "id": "125f1461-c3d2-43e2-b209-e5b6abb7c9d8",
   "metadata": {},
   "outputs": [
    {
     "name": "stdout",
     "output_type": "stream",
     "text": [
      "('hellow', 'Pwskills', 'My', 'name is', 'vinayak', 'bhardwaj')\n",
      "############################################################\n",
      "{'age': 22, 'gender': 'male'}\n"
     ]
    }
   ],
   "source": [
    "# Question 2\n",
    "# *args are usen when we want to pass multiple arguments in tha function \n",
    "# **kwargs are when we are giving key value pair as an input\n",
    "\n",
    "def arg_function(*args,):\n",
    "    for i in args:\n",
    "        return args\n",
    "print(arg_function(\"hellow\",\"Pwskills\",\"My\",\"name is\",\"vinayak\",\"bhardwaj\"))\n",
    "print(\"############################################################\")\n",
    "\n",
    "\n",
    "\n",
    "def dic_function(**kwargs):\n",
    "    \n",
    "        print(kwargs)\n",
    "       \n",
    "dic_function(age=22,gender=\"male\")\n",
    "\n",
    "\n",
    "\n",
    "\n",
    "        "
   ]
  },
  {
   "cell_type": "code",
   "execution_count": 11,
   "id": "691fd52c-18e5-43a5-bd13-e5fb1a93f8f4",
   "metadata": {},
   "outputs": [
    {
     "name": "stdout",
     "output_type": "stream",
     "text": [
      "['v', 'i', 'n', 'a', 'y', 'a', 'k']\n",
      "############################################################\n",
      "2\n",
      "4\n",
      "6\n",
      "8\n",
      "10\n"
     ]
    }
   ],
   "source": [
    "# Question 3\n",
    "# An iterator is an object that contains a countable number of values.\n",
    "# iter() method is used to initialize the iterator object\n",
    "# example\n",
    "a=iter(\"vinayak\")\n",
    "print(list(a))\n",
    "print(\"############################################################\")\n",
    "\n",
    "l=[2, 4, 6, 8, 10, 12, 14,16, 18, 20]\n",
    "\n",
    "for i in range(0,5):\n",
    "     print(l[i])  "
   ]
  },
  {
   "cell_type": "code",
   "execution_count": 12,
   "id": "fc11bd1c-eaa0-4142-96ef-ad93fa7231be",
   "metadata": {},
   "outputs": [
    {
     "name": "stdout",
     "output_type": "stream",
     "text": [
      "[2, 4, 6, 8, 10, 12, 14, 16, 18, 20]\n"
     ]
    }
   ],
   "source": [
    "# Question 4\n",
    "# A generater is a function that returns an sequance of values when it is iterated over an iterator\n",
    "# yield keyword is used to to receive the value when iteration is performed\n",
    "\n",
    "l=[2, 4, 6, 8, 10, 12, 14,16, 18, 20]\n",
    "\n",
    "def yieldfunction(l):\n",
    "    for i in l :\n",
    "        yield i\n",
    "\n",
    "a=list(yieldfunction(l))\n",
    "print(a)                           # yields the same list "
   ]
  },
  {
   "cell_type": "code",
   "execution_count": 1,
   "id": "784838c6-e296-427b-8a9d-12ce074ea70a",
   "metadata": {},
   "outputs": [],
   "source": [
    "# Question 5 not able to answer plzz send the solution in remark"
   ]
  },
  {
   "cell_type": "code",
   "execution_count": 4,
   "id": "1488b1f5-8032-4cc3-b10e-8b76f503a930",
   "metadata": {},
   "outputs": [
    {
     "name": "stdout",
     "output_type": "stream",
     "text": [
      "0\n",
      "1\n",
      "1\n",
      "2\n",
      "3\n",
      "5\n",
      "8\n",
      "13\n",
      "21\n",
      "34\n"
     ]
    }
   ],
   "source": [
    "# Question 6 \n",
    "\n",
    "i=0\n",
    "a=0\n",
    "b=1\n",
    "print(a)\n",
    "print(b)\n",
    "while i<=7:\n",
    "    \n",
    "    c=a+b\n",
    "    print(c)\n",
    "    a=b\n",
    "    b=c\n",
    "    i=i+1"
   ]
  },
  {
   "cell_type": "code",
   "execution_count": 7,
   "id": "b2b00b87-ac8a-426e-8cc2-e7e50dcdfd42",
   "metadata": {},
   "outputs": [
    {
     "name": "stdout",
     "output_type": "stream",
     "text": [
      "['p', 'w', 's', 'k', 'i', 'l', 'l', 's']\n"
     ]
    }
   ],
   "source": [
    "#Question 7 solution \n",
    "s='pwskills'\n",
    "output=[var for var in iter(s)]\n",
    "print(output)"
   ]
  },
  {
   "cell_type": "code",
   "execution_count": 8,
   "id": "c429daf2-9f3d-41b6-862c-4e2688ff021e",
   "metadata": {},
   "outputs": [
    {
     "name": "stdin",
     "output_type": "stream",
     "text": [
      "input a number   15651\n"
     ]
    },
    {
     "name": "stdout",
     "output_type": "stream",
     "text": [
      "['1', '5', '6', '5', '1']\n",
      "['1', '5', '6', '5', '1']\n",
      "the number you have enterted is Palindrome\n"
     ]
    }
   ],
   "source": [
    "# Question 8 solution \n",
    "\n",
    "num =input(\"input a number  \")\n",
    "numlist=list(iter(num))\n",
    "print(numlist)\n",
    "numlist1=[]\n",
    "i=0\n",
    "j=-1\n",
    "while i<len(num):\n",
    "    numlist1.append(numlist[j])\n",
    "    i=i+1\n",
    "    j=j-1 \n",
    "print(numlist1)\n",
    "if numlist1==numlist:\n",
    "    print(\"the number you have enterted is Palindrome\")\n",
    "else:\n",
    "    print(\"the number you have enterted is not Palindrome\")"
   ]
  },
  {
   "cell_type": "code",
   "execution_count": 9,
   "id": "a1d56419-d50b-47ad-a700-9db3e8442959",
   "metadata": {},
   "outputs": [
    {
     "name": "stdout",
     "output_type": "stream",
     "text": [
      "[1, 3, 5, 7, 9, 11, 13, 15, 17, 19, 21, 23, 25, 27, 29, 31, 33, 35, 37, 39, 41, 43, 45, 47, 49, 51, 53, 55, 57, 59, 61, 63, 65, 67, 69, 71, 73, 75, 77, 79, 81, 83, 85, 87, 89, 91, 93, 95, 97, 99]\n"
     ]
    }
   ],
   "source": [
    "# Question 9  solution \n",
    "\n",
    "list1=[var for var in range(1,101)]\n",
    "list2=[i for i in list1 if i%2!=0]\n",
    "print(list2)"
   ]
  },
  {
   "cell_type": "code",
   "execution_count": null,
   "id": "4dde515a-ae6b-440c-99b5-a790226442e3",
   "metadata": {},
   "outputs": [],
   "source": []
  }
 ],
 "metadata": {
  "kernelspec": {
   "display_name": "Python 3 (ipykernel)",
   "language": "python",
   "name": "python3"
  },
  "language_info": {
   "codemirror_mode": {
    "name": "ipython",
    "version": 3
   },
   "file_extension": ".py",
   "mimetype": "text/x-python",
   "name": "python",
   "nbconvert_exporter": "python",
   "pygments_lexer": "ipython3",
   "version": "3.10.8"
  }
 },
 "nbformat": 4,
 "nbformat_minor": 5
}
